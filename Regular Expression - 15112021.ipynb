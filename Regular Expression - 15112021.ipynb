{
 "cells": [
  {
   "cell_type": "code",
   "execution_count": 12,
   "id": "2e9c6c51",
   "metadata": {},
   "outputs": [],
   "source": [
    "text='''<html>\n",
    "<title>This is the best title!</title>\n",
    "<body>\n",
    "This <i>test</i> article uses <b>old school</b> formatting\n",
    "rather than <font color=\"red\">css.</font>\n",
    "</body>\n",
    "</html>'''"
   ]
  },
  {
   "cell_type": "code",
   "execution_count": 13,
   "id": "ce40b17d",
   "metadata": {},
   "outputs": [],
   "source": [
    "import re\n",
    "pattern = re.compile('<.*?>')\n",
    "def extract(new):\n",
    "    result = re.sub(pattern, '', new)\n",
    "    if result:\n",
    "        print(\"Title: \",result)"
   ]
  },
  {
   "cell_type": "code",
   "execution_count": 14,
   "id": "e4b7f0c5",
   "metadata": {},
   "outputs": [
    {
     "name": "stdout",
     "output_type": "stream",
     "text": [
      "Title:  \n",
      "This is the best title!\n",
      "\n",
      "This test article uses old school formatting\n",
      "rather than css.\n",
      "\n",
      "\n"
     ]
    }
   ],
   "source": [
    "extract(text)"
   ]
  },
  {
   "cell_type": "code",
   "execution_count": 15,
   "id": "d09cdaba",
   "metadata": {},
   "outputs": [
    {
     "name": "stdout",
     "output_type": "stream",
     "text": [
      "['<html>', '<body>', '<head>', '<title>My Web page</title>', '/head>', '<center>My First Heading</center>', '<h1>My first paragraph.</h1>', '<b> my bold Text </b>', '<p><font size=16> Font Implementation </font></p>', '</body>', '</html>', '']\n",
      "----> <html>\n",
      "**** ['<']\n",
      "After Pop []\n",
      "----> <body>\n",
      "**** ['<']\n",
      "After Pop []\n",
      "----> <head>\n",
      "**** ['<']\n",
      "After Pop []\n",
      "----> <title>My Web page</title>\n",
      "**** ['<']\n",
      "After Pop []\n",
      "**** ['<']\n",
      "After Pop []\n",
      "----> /head>\n",
      "False\n"
     ]
    }
   ],
   "source": [
    "class HtmlBlanced:\n",
    "    def __init__(self):\n",
    "        self.items = []\n",
    "    def is_empty(self):\n",
    "        return self.items == []\n",
    "    \n",
    "    def push(self,item):\n",
    "        return self.items.append(item)\n",
    "    def pop(self):\n",
    "        return self.items.pop()\n",
    "\n",
    "    \n",
    "    \n",
    "def HTMLCheck(newfile):\n",
    "    with open(newfile) as file:\n",
    "        stack = HtmlBlanced()\n",
    "        list1 = list()\n",
    "        for line in file:\n",
    "            line = line.rstrip()\n",
    "            list1.append(line)\n",
    "        print(list1)\n",
    "        index = 0\n",
    "        while index < len(list1):\n",
    "            print(\"---->\", list1[index])\n",
    "            for ch in list1[index]:\n",
    "                if ch == '<':\n",
    "                    stack.push(ch)\n",
    "                    print(\"****\",(stack.items))\n",
    "                if ch == '>':\n",
    "                    if stack.is_empty():\n",
    "                        return False\n",
    "                    else:\n",
    "                        stack.pop()\n",
    "                        print(\"After Pop\", (stack.items))\n",
    "#                 if ch == '</':\n",
    "#                     stack.push(ch)\n",
    "#                 if ch == '>':\n",
    "#                     if stack.is_empty():\n",
    "#                         return False\n",
    "#                     else:\n",
    "#                         stack.pop()\n",
    "\n",
    "                    \n",
    "                \n",
    "            index += 1\n",
    "\n",
    "        return stack.is_empty()\n",
    "\n",
    "\n",
    "print(HTMLCheck('/home/vijay/stack.html'))\n",
    "\n"
   ]
  },
  {
   "cell_type": "code",
   "execution_count": 16,
   "id": "fef9f96e",
   "metadata": {},
   "outputs": [
    {
     "name": "stdout",
     "output_type": "stream",
     "text": [
      "Aerospace control Air traffic control \n",
      "Attitude control Ground support \n",
      "Aerospace engineering \n",
      "Aerospace biophysics \n",
      "Aerospace electronics \n",
      "Aerospace safety \n",
      "Air safety \n",
      "Aerospace simulation \n",
      "\n",
      "Aerospace testing \n",
      "Satellites \n",
      "Artificial satellites \n",
      "Earth Observing System \n",
      "Low earth orbit satellites \n",
      "\n",
      "Moon Space stations \n",
      "Space technology \n",
      "Space exploration \n",
      "Aerospace materials \n",
      "Aerospace components \n",
      "Aircraft manufacture Aircraft navigation Aircraft propulsion Propellers \n",
      "Command and control systems Electronic warfare Electronic co\n",
      "untermeasures Jamming \n",
      "Radar countermeasures \n",
      "\n",
      "Military equipment \n",
      "Military aircraft Payloads Military satellites \n",
      "Military vehicles \n",
      "\n",
      "Weapons Guns \n",
      "Missiles \n",
      "Nuclear weapons \n",
      "Projectiles \n",
      "Radar Airborne radar \n",
      "Bistatic radar \n",
      "Cognitive radar Doppler radar Ground penetrating radar Laser radar Meteorological radar \n",
      "\n",
      "Millimeter wave radar \n",
      "Multistatic radar \n",
      "MIMO radar \n",
      "Passive radar \n",
      "Radar applications \n",
      "\n",
      "Radar countermeasures Radar detection \n",
      "Radar imaging Radar measurements Radar polarimetry \n",
      "\n",
      "Radar remote sensing Radar tracking Radar clutter \n",
      "Radar cross-sections \n",
      "Radar equipment \n",
      "\n",
      "Radar theory \n",
      "Spaceborne radar \n",
      "Spread spectrum radar \n",
      "Synthetic aperture radar \n",
      "Inverse synthetic aperture radar \n",
      "\n",
      "Polarimetric synthetic aperture \n",
      "radar \n",
      "Ultra wideband radar \n",
      "Sensor systems Activity recognition \n",
      "\n",
      "Gunshot detection systems Sonar \n"
     ]
    }
   ],
   "source": [
    "import PyPDF2\n",
    "open_1 = open('/home/vijay/Downloads/taxonomy_v101 (1).pdf', 'rb')\n",
    "reader = PyPDF2.PdfFileReader(open_1)\n",
    " \n",
    "extract = reader.getPage(1)\n",
    "extract_new = extract.extractText()\n",
    "def cleanhtml(raw_html):\n",
    "    cleantext = extract_new.split('\\n',20)[-1]\n",
    "    regex = re.compile(r'[\\.{4,}]')\n",
    "    pattern = re.sub(regex, '',cleantext)\n",
    "    print(pattern)\n",
    "\n",
    "cleanhtml(extract_new)"
   ]
  },
  {
   "cell_type": "code",
   "execution_count": null,
   "id": "100a9eba",
   "metadata": {},
   "outputs": [],
   "source": []
  },
  {
   "cell_type": "code",
   "execution_count": null,
   "id": "eaed63d5",
   "metadata": {},
   "outputs": [],
   "source": []
  }
 ],
 "metadata": {
  "kernelspec": {
   "display_name": "Python 3 (ipykernel)",
   "language": "python",
   "name": "python3"
  },
  "language_info": {
   "codemirror_mode": {
    "name": "ipython",
    "version": 3
   },
   "file_extension": ".py",
   "mimetype": "text/x-python",
   "name": "python",
   "nbconvert_exporter": "python",
   "pygments_lexer": "ipython3",
   "version": "3.8.10"
  }
 },
 "nbformat": 4,
 "nbformat_minor": 5
}
