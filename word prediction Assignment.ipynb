{
 "cells": [
  {
   "cell_type": "code",
   "execution_count": 4,
   "metadata": {},
   "outputs": [
    {
     "name": "stderr",
     "output_type": "stream",
     "text": [
      "[nltk_data] Downloading package stopwords to /home/vijay/nltk_data...\n",
      "[nltk_data]   Unzipping corpora/stopwords.zip.\n",
      "[nltk_data] Downloading package punkt to /home/vijay/nltk_data...\n",
      "[nltk_data]   Package punkt is already up-to-date!\n",
      "[nltk_data] Downloading package wordnet to /home/vijay/nltk_data...\n",
      "[nltk_data]   Package wordnet is already up-to-date!\n"
     ]
    },
    {
     "data": {
      "text/plain": [
       "True"
      ]
     },
     "execution_count": 4,
     "metadata": {},
     "output_type": "execute_result"
    }
   ],
   "source": [
    "import nltk\n",
    "nltk.download('stopwords')\n",
    "nltk.download('punkt')\n",
    "nltk.download('wordnet')"
   ]
  },
  {
   "cell_type": "code",
   "execution_count": 5,
   "metadata": {},
   "outputs": [],
   "source": [
    "from nltk import bigrams\n",
    "import collections\n",
    "from collections import Counter, defaultdict\n",
    "from nltk.corpus import brown\n",
    "\n",
    "from nltk.tokenize import sent_tokenize\n",
    "from collections import Counter"
   ]
  },
  {
   "cell_type": "code",
   "execution_count": 6,
   "metadata": {},
   "outputs": [],
   "source": [
    "from nltk.corpus import brown\n",
    "\n",
    "def build_bigram_model():\n",
    "    bigram_model = collections.defaultdict(\n",
    "        lambda: collections.defaultdict (lambda: 0))\n",
    "    for sentence in brown.sents()[:1000]:\n",
    "        sentence=[word.lower() for word in sentence \n",
    "                  if word.isalpha ()] \n",
    "        for w1, w2 in bigrams (sentence):\n",
    "            bigram_model[w1] [w2] += 1\n",
    "        for w1 in bigram_model:\n",
    "            total_count = float (sum (bigram_model[w1].values()))\n",
    "            for w2 in bigram_model[w1]:\n",
    "                bigram_model [w1] [w2] /= total_count\n",
    "    return bigram_model"
   ]
  },
  {
   "cell_type": "code",
   "execution_count": 7,
   "metadata": {},
   "outputs": [
    {
     "name": "stdout",
     "output_type": "stream",
     "text": [
      "('else', 'seeking')\n"
     ]
    }
   ],
   "source": [
    "import numpy as np\n",
    "def predict_next_word (first_word):\n",
    "    model = build_bigram_model()\n",
    "    second_word = model[first_word]\n",
    "#     print(dict(second_word))\n",
    "    top10words = Counter(second_word).most_common(10)\n",
    "    predicted_words= list(zip(*top10words)) [0]\n",
    "    print(predicted_words)\n",
    "predict_next_word('anyone')\n"
   ]
  },
  {
   "cell_type": "code",
   "execution_count": null,
   "metadata": {},
   "outputs": [],
   "source": []
  }
 ],
 "metadata": {
  "kernelspec": {
   "display_name": "Python 3 (ipykernel)",
   "language": "python",
   "name": "python3"
  },
  "language_info": {
   "codemirror_mode": {
    "name": "ipython",
    "version": 3
   },
   "file_extension": ".py",
   "mimetype": "text/x-python",
   "name": "python",
   "nbconvert_exporter": "python",
   "pygments_lexer": "ipython3",
   "version": "3.8.10"
  }
 },
 "nbformat": 4,
 "nbformat_minor": 2
}
