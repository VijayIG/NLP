{
 "cells": [
  {
   "cell_type": "code",
   "execution_count": 1,
   "id": "32b29959",
   "metadata": {},
   "outputs": [
    {
     "name": "stderr",
     "output_type": "stream",
     "text": [
      "[nltk_data] Downloading package stopwords to /home/vijay/nltk_data...\n",
      "[nltk_data]   Unzipping corpora/stopwords.zip.\n",
      "[nltk_data] Downloading package punkt to /home/vijay/nltk_data...\n",
      "[nltk_data]   Package punkt is already up-to-date!\n",
      "[nltk_data] Downloading package wordnet to /home/vijay/nltk_data...\n",
      "[nltk_data]   Package wordnet is already up-to-date!\n"
     ]
    },
    {
     "data": {
      "text/plain": [
       "True"
      ]
     },
     "execution_count": 1,
     "metadata": {},
     "output_type": "execute_result"
    }
   ],
   "source": [
    "import nltk\n",
    "nltk.download('stopwords')\n",
    "nltk.download('punkt')\n",
    "nltk.download('wordnet')"
   ]
  },
  {
   "cell_type": "code",
   "execution_count": 2,
   "id": "1422f3ee",
   "metadata": {},
   "outputs": [],
   "source": [
    "import nltk\n",
    "from nltk.tokenize import word_tokenize\n",
    "from nltk.stem.snowball import SnowballStemmer\n",
    "from nltk.stem import PorterStemmer\n",
    "from nltk.stem import WordNetLemmatizer"
   ]
  },
  {
   "cell_type": "code",
   "execution_count": 3,
   "id": "ce15a742",
   "metadata": {},
   "outputs": [
    {
     "ename": "NameError",
     "evalue": "name 'lines_lower' is not defined",
     "output_type": "error",
     "traceback": [
      "\u001b[0;31m---------------------------------------------------------------------------\u001b[0m",
      "\u001b[0;31mNameError\u001b[0m                                 Traceback (most recent call last)",
      "\u001b[0;32m/tmp/ipykernel_5504/1794808120.py\u001b[0m in \u001b[0;36m<module>\u001b[0;34m\u001b[0m\n\u001b[1;32m      5\u001b[0m \u001b[0mword_lower\u001b[0m \u001b[0;34m=\u001b[0m \u001b[0mstr\u001b[0m\u001b[0;34m(\u001b[0m\u001b[0mread\u001b[0m\u001b[0;34m)\u001b[0m\u001b[0;34m.\u001b[0m\u001b[0mlower\u001b[0m\u001b[0;34m(\u001b[0m\u001b[0;34m)\u001b[0m\u001b[0;34m\u001b[0m\u001b[0;34m\u001b[0m\u001b[0m\n\u001b[1;32m      6\u001b[0m \u001b[0;34m\u001b[0m\u001b[0m\n\u001b[0;32m----> 7\u001b[0;31m \u001b[0mword_tokenize\u001b[0m \u001b[0;34m=\u001b[0m \u001b[0mword_tokenize\u001b[0m\u001b[0;34m(\u001b[0m\u001b[0mlines_lower\u001b[0m\u001b[0;34m)\u001b[0m\u001b[0;34m\u001b[0m\u001b[0;34m\u001b[0m\u001b[0m\n\u001b[0m\u001b[1;32m      8\u001b[0m \u001b[0malpha\u001b[0m \u001b[0;34m=\u001b[0m \u001b[0;34m[\u001b[0m\u001b[0;34m]\u001b[0m\u001b[0;34m\u001b[0m\u001b[0;34m\u001b[0m\u001b[0m\n\u001b[1;32m      9\u001b[0m \u001b[0mprint\u001b[0m\u001b[0;34m(\u001b[0m\u001b[0malpha\u001b[0m\u001b[0;34m)\u001b[0m\u001b[0;34m\u001b[0m\u001b[0;34m\u001b[0m\u001b[0m\n",
      "\u001b[0;31mNameError\u001b[0m: name 'lines_lower' is not defined"
     ]
    }
   ],
   "source": [
    "line_new = []\n",
    "df = open(\"review.txt\", \"r\")\n",
    "read=df.read()\n",
    "line_new.append(read)\n",
    "word_lower = str(read).lower()\n",
    "\n",
    "word_tokenize = word_tokenize(lines_lower)\n",
    "alpha = []\n",
    "print(alpha)\n",
    "\n",
    "snow_stemmer = SnowballStemmer(language='english')\n",
    "snowball = []\n",
    "\n",
    "Porter_Stemmer = PorterStemmer()\n",
    "Porter = []\n",
    "\n",
    "WordNet_Lemmatizer = WordNetLemmatizer()\n",
    "lemmatizer = []\n",
    "\n",
    "\n",
    "\n",
    "for word in word_tokenize:\n",
    "    if word.isalpha():\n",
    "        alpha.append(word)\n",
    "        x = snow_stemmer.stem(word)\n",
    "        snowball.append(x)\n",
    "        y = Porter_Stemmer.stem(word)\n",
    "        Porter.append(y)\n",
    "        z = WordNet_Lemmatizer.lemmatize(word)\n",
    "        lemmatizer.append(z)\n",
    "\n",
    "\n",
    "\n",
    "\n",
    "        \n",
    "print(\"snowball\",snowball)\n",
    "print(\"PorterStemmer\", Porter)\n",
    "print(\"lemmatizer\",lemmatizer)\n",
    "  \n"
   ]
  },
  {
   "cell_type": "code",
   "execution_count": null,
   "id": "09fd7c31",
   "metadata": {},
   "outputs": [],
   "source": [
    "import pandas as pd\n",
    "import numpy as np\n",
    "df = pd.DataFrame({'snowball': snowball,\"stemming\":Porter,\"lemmatizer\":lemmatizer}) \n",
    "print(df)"
   ]
  },
  {
   "cell_type": "code",
   "execution_count": null,
   "id": "f527f624",
   "metadata": {},
   "outputs": [],
   "source": [
    "new = []\n",
    "for i,j,k in zip(df['snowball'],df['lemmatizer'],df['stemming']):\n",
    "    if i == j and i == k and j == k:\n",
    "        print('True')\n",
    "        new.append('True')\n",
    "    else:\n",
    "        print('False')\n",
    "        new.append('False')"
   ]
  },
  {
   "cell_type": "code",
   "execution_count": null,
   "id": "445b69b5",
   "metadata": {},
   "outputs": [],
   "source": [
    "df['comparision'] = new"
   ]
  },
  {
   "cell_type": "code",
   "execution_count": null,
   "id": "fe3a8084",
   "metadata": {},
   "outputs": [],
   "source": [
    "pd.set_option('display.max_rows',1000)"
   ]
  },
  {
   "cell_type": "code",
   "execution_count": null,
   "id": "668cebfa",
   "metadata": {},
   "outputs": [],
   "source": [
    "df"
   ]
  },
  {
   "cell_type": "code",
   "execution_count": null,
   "id": "c47f1ef9",
   "metadata": {},
   "outputs": [],
   "source": []
  },
  {
   "cell_type": "code",
   "execution_count": null,
   "id": "b7e633c1",
   "metadata": {},
   "outputs": [],
   "source": []
  }
 ],
 "metadata": {
  "kernelspec": {
   "display_name": "Python 3 (ipykernel)",
   "language": "python",
   "name": "python3"
  },
  "language_info": {
   "codemirror_mode": {
    "name": "ipython",
    "version": 3
   },
   "file_extension": ".py",
   "mimetype": "text/x-python",
   "name": "python",
   "nbconvert_exporter": "python",
   "pygments_lexer": "ipython3",
   "version": "3.8.10"
  }
 },
 "nbformat": 4,
 "nbformat_minor": 5
}
